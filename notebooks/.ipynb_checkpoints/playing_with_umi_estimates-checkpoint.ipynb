{
 "cells": [
  {
   "cell_type": "code",
   "execution_count": 8,
   "id": "f510eb78-3aed-42e4-afdc-0765180cb2b3",
   "metadata": {
    "scrolled": true,
    "tags": []
   },
   "outputs": [
    {
     "name": "stderr",
     "output_type": "stream",
     "text": [
      "Loading required package: parallel\n",
      "\n",
      "slurmR default option for `tmp_path` (used to store auxiliar files) set to:\n",
      "  /mnt/scratchb/fmlab/baker02/crigen/notebooks\n",
      "You can change this and checkout other slurmR options using: ?opts_slurmR, or you could just type \"opts_slurmR\" on the terminal.\n",
      "\n"
     ]
    }
   ],
   "source": [
    "library(slurmR)\n",
    "library(Seurat)\n",
    "library(pbapply)\n",
    "library(EnvStats)\n",
    "library(tidyverse)\n",
    "library(SeuratData)\n",
    "\n",
    "pbo <- pboptions(type='timer')"
   ]
  },
  {
   "cell_type": "code",
   "execution_count": 2,
   "id": "b244dfc7-83c3-435b-ad56-eee2de1f4772",
   "metadata": {
    "scrolled": true,
    "tags": []
   },
   "outputs": [
    {
     "name": "stderr",
     "output_type": "stream",
     "text": [
      "Warning message in if (is.na(desc)) {:\n",
      "“the condition has length > 1 and only the first element will be used”\n",
      "Warning message in if (is.na(desc)) {:\n",
      "“the condition has length > 1 and only the first element will be used”\n",
      "Warning message in if (is.na(desc)) {:\n",
      "“the condition has length > 1 and only the first element will be used”\n",
      "Warning message in if (is.na(desc)) {:\n",
      "“the condition has length > 1 and only the first element will be used”\n",
      "Warning message in if (is.na(desc)) {:\n",
      "“the condition has length > 1 and only the first element will be used”\n",
      "Warning message in if (is.na(desc)) {:\n",
      "“the condition has length > 1 and only the first element will be used”\n",
      "Warning message in if (is.na(desc)) {:\n",
      "“the condition has length > 1 and only the first element will be used”\n",
      "Warning message in if (is.na(desc)) {:\n",
      "“the condition has length > 1 and only the first element will be used”\n",
      "Warning message in if (is.na(desc)) {:\n",
      "“the condition has length > 1 and only the first element will be used”\n",
      "Warning message in if (is.na(desc)) {:\n",
      "“the condition has length > 1 and only the first element will be used”\n",
      "Warning message in if (is.na(desc)) {:\n",
      "“the condition has length > 1 and only the first element will be used”\n",
      "Warning message in if (is.na(desc)) {:\n",
      "“the condition has length > 1 and only the first element will be used”\n",
      "Warning message in if (is.na(desc)) {:\n",
      "“the condition has length > 1 and only the first element will be used”\n",
      "Warning message in if (is.na(desc)) {:\n",
      "“the condition has length > 1 and only the first element will be used”\n",
      "Warning message in if (is.na(desc)) {:\n",
      "“the condition has length > 1 and only the first element will be used”\n",
      "Warning message in if (is.na(desc)) {:\n",
      "“the condition has length > 1 and only the first element will be used”\n",
      "Warning message in if (is.na(desc)) {:\n",
      "“the condition has length > 1 and only the first element will be used”\n",
      "Warning message in if (is.na(desc)) {:\n",
      "“the condition has length > 1 and only the first element will be used”\n",
      "Warning message in if (is.na(desc)) {:\n",
      "“the condition has length > 1 and only the first element will be used”\n",
      "Warning message in if (is.na(desc)) {:\n",
      "“the condition has length > 1 and only the first element will be used”\n",
      "Warning message in if (is.na(desc)) {:\n",
      "“the condition has length > 1 and only the first element will be used”\n",
      "Warning message in if (is.na(desc)) {:\n",
      "“the condition has length > 1 and only the first element will be used”\n",
      "Warning message in if (is.na(desc)) {:\n",
      "“the condition has length > 1 and only the first element will be used”\n",
      "Warning message in if (is.na(desc)) {:\n",
      "“the condition has length > 1 and only the first element will be used”\n",
      "Warning message in if (is.na(desc)) {:\n",
      "“the condition has length > 1 and only the first element will be used”\n",
      "Warning message in if (is.na(desc)) {:\n",
      "“the condition has length > 1 and only the first element will be used”\n",
      "Warning message in if (is.na(desc)) {:\n",
      "“the condition has length > 1 and only the first element will be used”\n",
      "Warning message in if (is.na(desc)) {:\n",
      "“the condition has length > 1 and only the first element will be used”\n",
      "Warning message in if (is.na(desc)) {:\n",
      "“the condition has length > 1 and only the first element will be used”\n",
      "Warning message in if (is.na(desc)) {:\n",
      "“the condition has length > 1 and only the first element will be used”\n",
      "Warning message in if (is.na(desc)) {:\n",
      "“the condition has length > 1 and only the first element will be used”\n",
      "Warning message in if (is.na(desc)) {:\n",
      "“the condition has length > 1 and only the first element will be used”\n",
      "Warning message in if (is.na(desc)) {:\n",
      "“the condition has length > 1 and only the first element will be used”\n",
      "Warning message in if (is.na(desc)) {:\n",
      "“the condition has length > 1 and only the first element will be used”\n",
      "Warning message in if (is.na(desc)) {:\n",
      "“the condition has length > 1 and only the first element will be used”\n",
      "Warning message in if (is.na(desc)) {:\n",
      "“the condition has length > 1 and only the first element will be used”\n"
     ]
    }
   ],
   "source": [
    "eccite <- LoadData(ds = \"thp1.eccite\")\n",
    "DefaultAssay(object = eccite) <- 'RNA'"
   ]
  },
  {
   "cell_type": "code",
   "execution_count": 3,
   "id": "8cfe92d7-34ce-4089-9211-e271f68a1a3d",
   "metadata": {},
   "outputs": [],
   "source": [
    "v2_rna_fraction <- 0.14\n",
    "df <- eccite[[]] %>%\n",
    "                as.data.frame %>% \n",
    "                mutate(rna_pop_estimate = round(nCount_RNA / v2_rna_fraction))\n",
    "\n",
    "counts <- eccite[['RNA']]@data"
   ]
  },
  {
   "cell_type": "code",
   "execution_count": 20,
   "id": "c8ad7541-44fb-4f8f-a9b1-b2b55c1fda64",
   "metadata": {},
   "outputs": [],
   "source": [
    "df_to_list <- function(df) {\n",
    "    row_list <- split(df, seq(nrow(df)))\n",
    "    return (row_list)\n",
    "}\n",
    "\n",
    "estimate_mRNA <- function(cell, counts) {\n",
    "   rna_sample <- cell$nFeature_RNA\n",
    "   rna_pop <- cell$rna_pop_estimate\n",
    "    \n",
    "    cell_counts <- counts[, rownames(cell)]\n",
    "    cell_counts <- cell_counts[cell_counts != 0]\n",
    "    \n",
    "    count_estimates <- lapply(cell_counts, function(gene) {\n",
    "        gene_count <- cell_counts[gene]\n",
    "        \n",
    "        if (gene_count == 0) {\n",
    "            mRNA_estimate <- 0\n",
    "        } else {\n",
    "            mRNA_estimate <- ehyper(gene_count, total=rna_pop, k=rna_sample)$parameter[1]\n",
    "            mRNA_estimate <- as.integer(mRNA_estimate)\n",
    "        }\n",
    "        \n",
    "        return (mRNA_estimate)\n",
    "    })\n",
    "    \n",
    "    return (count_estimates)\n",
    "}"
   ]
  },
  {
   "cell_type": "code",
   "execution_count": 21,
   "id": "e251e4f2-b181-4af2-b0ba-d729d5afa59c",
   "metadata": {},
   "outputs": [],
   "source": [
    "ctrl <- df %>% filter(gene == 'NT' & replicate == 'rep1') %>% df_to_list()"
   ]
  },
  {
   "cell_type": "code",
   "execution_count": 22,
   "id": "1bf34661-76b9-47d6-98de-a41f3aaadf13",
   "metadata": {},
   "outputs": [],
   "source": [
    "njobs <- 500\n",
    "\n",
    "if (njobs > length(ctrl)) {\n",
    "    njobs <- length(ctrl)\n",
    "}"
   ]
  },
  {
   "cell_type": "code",
   "execution_count": 26,
   "id": "5b8a9dc7-a984-46d3-9bae-7489f245e1df",
   "metadata": {},
   "outputs": [
    {
     "name": "stderr",
     "output_type": "stream",
     "text": [
      "The path /mnt/scratchb/fmlab/baker02/crigen/notebooks/slurmr-job-4e6c4cc1558f already exists. Since `overwrite = TRUE`,slurmR will remove the previous data.\n",
      "\n",
      "Submitting job...\n"
     ]
    },
    {
     "name": "stdout",
     "output_type": "stream",
     "text": [
      "Submitted batch job 14780495\n"
     ]
    }
   ],
   "source": [
    "estimates <- Slurm_lapply(ctrl, estimate_mRNA, counts=counts, njobs=njobs, mc.cores=1, sbatch_opt=list(mem='4G', time='1-00:00:00'))"
   ]
  },
  {
   "cell_type": "code",
   "execution_count": 27,
   "id": "7d47f5bc-e85a-4fb2-b512-440985ec1f88",
   "metadata": {},
   "outputs": [],
   "source": [
    "count_estimates <- counts"
   ]
  },
  {
   "cell_type": "code",
   "execution_count": 39,
   "id": "9d2f6bad-f0bc-44c8-93dd-cc25c88dc79f",
   "metadata": {
    "scrolled": true,
    "tags": []
   },
   "outputs": [
    {
     "name": "stdout",
     "output_type": "stream",
     "text": [
      "  |                                                  | 0 % ~calculating  \n"
     ]
    }
   ],
   "source": [
    "pblapply(1:length(estimates), function(cell_i) {\n",
    "    cell_estimates <- estimates[[cell_i]]\n",
    "    \n",
    "    lapply(cell_estimates, function(gene) {\n",
    "        count_estimates[gene, cell_i] <- cell_estimates[[gene]]\n",
    "    })\n",
    "})"
   ]
  },
  {
   "cell_type": "code",
   "execution_count": null,
   "id": "5ffc08b4-e492-44a1-9d08-09d90a55fe95",
   "metadata": {},
   "outputs": [],
   "source": [
    "# count_estimates[names(estimates), 1]\n",
    "count_estimates[names(estimates[[1]]), 1]"
   ]
  },
  {
   "cell_type": "code",
   "execution_count": null,
   "id": "ceaf91e0-95a5-4e03-89ec-53fa242a4ce9",
   "metadata": {},
   "outputs": [],
   "source": []
  }
 ],
 "metadata": {
  "kernelspec": {
   "display_name": "Athena R",
   "language": "R",
   "name": "athena_r"
  },
  "language_info": {
   "codemirror_mode": "r",
   "file_extension": ".r",
   "mimetype": "text/x-r-source",
   "name": "R",
   "pygments_lexer": "r",
   "version": "4.1.1"
  }
 },
 "nbformat": 4,
 "nbformat_minor": 5
}
