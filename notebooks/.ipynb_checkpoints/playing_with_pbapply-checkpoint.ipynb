{
 "cells": [
  {
   "cell_type": "code",
   "execution_count": 15,
   "id": "bfb2efc8-2757-4ceb-b696-7d45359e021c",
   "metadata": {},
   "outputs": [],
   "source": [
    "library(tidyverse)\n",
    "library(pbapply)\n",
    "library(listenv)\n",
    "library(pbapply)\n",
    "library(future.apply)\n",
    "library(future.batchtools)"
   ]
  },
  {
   "cell_type": "code",
   "execution_count": 16,
   "id": "cafb3df2-536a-4201-a9a5-53e284c0d90c",
   "metadata": {},
   "outputs": [],
   "source": [
    "# parameters \n",
    "ncl <- 2\n",
    "B <- 1000\n",
    "X <- 1:B\n",
    "njobs <- 3\n",
    "\n",
    "pbo <- pboptions(type = 'timer')\n",
    "on.exit(pboptions(pbo))\n",
    "\n",
    "plan(list(tweak(batchtools_slurm,\n",
    "                template = \"/scratcha/fmlab/baker02/crigen/notebooks/slurm-simple.tmpl\",\n",
    "                resources = list(ncpus = 1, memory = \"2G\", walltime=\"24:00:00\", rscript=system(\"which Rscript\", intern=TRUE)))))"
   ]
  },
  {
   "cell_type": "code",
   "execution_count": 17,
   "id": "3019ac4e-07f1-4461-97f3-423ada048bb8",
   "metadata": {},
   "outputs": [],
   "source": [
    "# toy function\n",
    "fun2 <- function(x) {\n",
    "    Sys.sleep(0.01)\n",
    "    x^2\n",
    "}\n",
    "\n",
    "# timer function\n",
    "timer_fun <- function(X, FUN, type = \"timer\") {\n",
    "    pbo <- pboptions(type = type)\n",
    "    on.exit(pboptions(pbo))\n",
    "    rbind(\n",
    "        pb_NULL = system.time(pblapply_test(X, FUN, nout = NULL)),\n",
    "        pb_100  = system.time(pblapply_test(X, FUN, nout = 100)),\n",
    "        pb_1    = system.time(pblapply_test(X, FUN, nout = 1)),\n",
    "\n",
    "        pb_cl_NULL = system.time(pblapply_test(X, FUN, cl = cl, nout = NULL)),\n",
    "        pb_cl_100  = system.time(pblapply_test(X, FUN, cl = cl, nout = 100)),\n",
    "        pb_cl_1    = system.time(pblapply_test(X, FUN, cl = cl, nout = 1)),\n",
    "\n",
    "        pb_mc_NULL = system.time(pblapply_test(X, FUN, cl = ncl, nout = NULL)),\n",
    "        pb_mc_100  = system.time(pblapply_test(X, FUN, cl = ncl, nout = 100)),\n",
    "        pb_mc_1    = system.time(pblapply_test(X, FUN, cl = ncl, nout = 1))\n",
    "    )\n",
    "}"
   ]
  },
  {
   "cell_type": "code",
   "execution_count": 18,
   "id": "e372fb18-6b5f-44e5-a2b6-162a3e4409e0",
   "metadata": {},
   "outputs": [],
   "source": [
    "pbo <- pboptions(type = 'timer')\n",
    "on.exit(pboptions(pbo))\n",
    "\n",
    "plan(list(tweak(batchtools_slurm,\n",
    "                template = \"../templates/slurm.tmpl\",\n",
    "                resources = list(ncpus = 1, memory = \"2G\", walltime=\"24:00:00\", rscript=system(\"which Rscript\", intern=TRUE)))))"
   ]
  },
  {
   "cell_type": "code",
   "execution_count": 19,
   "id": "cbd7b7d9-5a8c-428f-95c7-be0679df3243",
   "metadata": {},
   "outputs": [],
   "source": [
    "run_jobs <- function(inputs, FUN, njobs) {\n",
    "    do_pb <- dopb()\n",
    "    FUN <- match.fun(FUN)\n",
    "    \n",
    "    if (do_pb) {\n",
    "        pb <- startpb(0, nouts)\n",
    "        on.exit(closepb(pb), add = TRUE)\n",
    "    }\n",
    "    \n",
    "#     ## sequential evaluation\n",
    "#     Split <- splitpb(length(input), njobs, nout=njobs)\n",
    "\n",
    "#     for (i in seq_len(njobs)) {\n",
    "#         res[[i]] %<-% lapply(inputs[Split[[i]]], FUN)\n",
    "#     }\n",
    "    \n",
    "    res <- future_lapply(inputs, FUN)\n",
    "    monitor_progress(res, do_pb, pb)\n",
    "    \n",
    "    return (as.list(res))\n",
    "}\n",
    "\n",
    "\n",
    "\n",
    "monitor_progression <- function(res, do_pb, pb) {\n",
    "    resolved <- c()\n",
    "    \n",
    "    while (length(resolved) < nouts) {\n",
    "        new_resolved <- c()\n",
    "\n",
    "        for (i in seq_len(nouts)) {\n",
    "            f <- futureOf(res[[i]])\n",
    "\n",
    "            if (resolved(f) & !i %in% resolved) {\n",
    "                resolved <- c(resolved, i)\n",
    "                new_resolved <- c(new_resolved, i)\n",
    "            }\n",
    "        } \n",
    "\n",
    "        if (do_pb & length(new_resolved) > 0) {\n",
    "            setpb(pb, length(resolved))\n",
    "        }\n",
    "    }\n",
    "}"
   ]
  },
  {
   "cell_type": "code",
   "execution_count": 20,
   "id": "6b5a5d50-aedb-4239-ad12-5b085fab355b",
   "metadata": {},
   "outputs": [
    {
     "name": "stderr",
     "output_type": "stream",
     "text": [
      "Warning message in readLines(template):\n",
      "“incomplete final line found on '/mnt/scratcha/fmlab/baker02/crigen/templates/slurm.tmpl'”\n",
      "Warning message in readLines(template):\n",
      "“incomplete final line found on '/mnt/scratcha/fmlab/baker02/crigen/templates/slurm.tmpl'”\n"
     ]
    }
   ],
   "source": [
    "run_jobs(X, fun2, njobs)"
   ]
  },
  {
   "cell_type": "code",
   "execution_count": 25,
   "id": "80bf8a60-e21c-42de-a8b8-6ee48d0b29bb",
   "metadata": {},
   "outputs": [],
   "source": [
    "pbo <- pboptions(type = 'timer')"
   ]
  },
  {
   "cell_type": "code",
   "execution_count": 26,
   "id": "8b81df5f-fe92-4c12-a5eb-2649881459eb",
   "metadata": {},
   "outputs": [],
   "source": [
    "do_pb <- dopb()"
   ]
  },
  {
   "cell_type": "code",
   "execution_count": 27,
   "id": "8be936e0-7c8e-4353-a70e-39e5edbb5222",
   "metadata": {},
   "outputs": [
    {
     "data": {
      "text/html": [
       "TRUE"
      ],
      "text/latex": [
       "TRUE"
      ],
      "text/markdown": [
       "TRUE"
      ],
      "text/plain": [
       "[1] TRUE"
      ]
     },
     "metadata": {},
     "output_type": "display_data"
    }
   ],
   "source": [
    "do_pb"
   ]
  },
  {
   "cell_type": "code",
   "execution_count": null,
   "id": "643bbefe-e6c2-433a-a599-7f57df9ac6c4",
   "metadata": {},
   "outputs": [],
   "source": []
  }
 ],
 "metadata": {
  "kernelspec": {
   "display_name": "R Perturbverse",
   "language": "R",
   "name": "perturbverse"
  },
  "language_info": {
   "codemirror_mode": "r",
   "file_extension": ".r",
   "mimetype": "text/x-r-source",
   "name": "R",
   "pygments_lexer": "r",
   "version": "4.1.0"
  }
 },
 "nbformat": 4,
 "nbformat_minor": 5
}
